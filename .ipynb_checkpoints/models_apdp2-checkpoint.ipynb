{
 "cells": [
  {
   "cell_type": "code",
   "execution_count": 1,
   "id": "8e733360-7093-4d73-ab00-a1715e29e3af",
   "metadata": {},
   "outputs": [],
   "source": [
    "# df_without_zero.csv"
   ]
  },
  {
   "cell_type": "code",
   "execution_count": null,
   "id": "4f463d4c-358f-4787-9079-2c366e136529",
   "metadata": {},
   "outputs": [],
   "source": []
  }
 ],
 "metadata": {
  "kernelspec": {
   "display_name": "Python 3 (ipykernel)",
   "language": "python",
   "name": "python3"
  },
  "language_info": {
   "codemirror_mode": {
    "name": "ipython",
    "version": 3
   },
   "file_extension": ".py",
   "mimetype": "text/x-python",
   "name": "python",
   "nbconvert_exporter": "python",
   "pygments_lexer": "ipython3",
   "version": "3.11.7"
  }
 },
 "nbformat": 4,
 "nbformat_minor": 5
}
